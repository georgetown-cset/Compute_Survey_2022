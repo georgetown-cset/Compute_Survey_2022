{
 "cells": [
  {
   "cell_type": "code",
   "execution_count": 1,
   "id": "0fd21277",
   "metadata": {},
   "outputs": [],
   "source": [
    "import pandas as pd\n",
    "import numpy as np\n",
    "\n",
    "from scipy.stats import mannwhitneyu\n",
    "\n",
    "from matplotlib import pyplot as plt\n",
    "import matplotlib as mpl\n",
    "import seaborn as sns\n",
    "\n",
    "sns.set_style('darkgrid')"
   ]
  },
  {
   "cell_type": "code",
   "execution_count": 2,
   "id": "ea658ef7",
   "metadata": {},
   "outputs": [],
   "source": [
    "colors = ['#003DA6', '#B53A6D', '#7AC4A5', '#F17F4C', '#15AFD0']\n",
    "\n",
    "basefont = mpl.font_manager.FontProperties(family='DejaVu Sans', style='normal', size=14)\n",
    "mpl.rcParams['axes.titlesize'] = 14\n",
    "\n",
    "plot_style = {\n",
    "    'axes.grid': True,\n",
    "    'axes.grid.axis': 'y',\n",
    "    'axes.spines.left': False,\n",
    "    'axes.spines.right': False,\n",
    "    'axes.spines.top': False,\n",
    "    'axes.spines.bottom': True,\n",
    "    'axes.facecolor': 'w',\n",
    "    'axes.edgecolor': 'black',\n",
    "    'grid.color': '#aaaaaa',\n",
    "    'grid.linewidth': '0.8',\n",
    "    'grid.linestyle': '-',\n",
    "    'axes.titlesize': 14,\n",
    "    'legend.framealpha': 1.0,\n",
    "    'errorbar.capsize': 8\n",
    "}\n",
    "\n",
    "plt.rcParams.update(plot_style)"
   ]
  },
  {
   "cell_type": "code",
   "execution_count": 3,
   "id": "0decb3f4",
   "metadata": {},
   "outputs": [],
   "source": [
    "df = pd.read_csv('../../Private/data_cleaned.csv')"
   ]
  },
  {
   "cell_type": "markdown",
   "id": "fc366ed9",
   "metadata": {},
   "source": [
    "# Replicate Figure 8 for each AI subfield"
   ]
  },
  {
   "cell_type": "code",
   "execution_count": 13,
   "id": "8be29760",
   "metadata": {},
   "outputs": [
    {
     "data": {
      "text/plain": [
       "0.018867924528301886"
      ]
     },
     "execution_count": 13,
     "metadata": {},
     "output_type": "execute_result"
    }
   ],
   "source": [
    "acad_needs = df[(df.Sector == 'Academia') & (df.CV == 1)].NeedChanges.dropna()\n",
    "\n",
    "sum(acad_needs == 1) / len(acad_needs)"
   ]
  },
  {
   "cell_type": "code",
   "execution_count": 33,
   "id": "4eb4016c",
   "metadata": {},
   "outputs": [],
   "source": [
    "# Write a function to perform the statistical testing and produce a figure\n",
    "def needs_v_access(subfield):\n",
    "    # Use only the data corresponding to this subfield\n",
    "    sf = df[df[subfield] == 1]\n",
    "    \n",
    "    # Extract the relevant data\n",
    "    acad_needs = sf[sf.Sector == 'Academia'].NeedChanges.dropna()\n",
    "    acad_access = sf[sf.Sector == 'Academia'].AccessChanges.dropna()\n",
    "    ind_needs = sf[sf.Sector == 'Industry'].NeedChanges.dropna()\n",
    "    ind_access = sf[sf.Sector == 'Industry'].AccessChanges.dropna()\n",
    "    \n",
    "    # Perform the stats tests\n",
    "    acad_mwu = mannwhitneyu(acad_needs, acad_access)\n",
    "    ind_mwu = mannwhitneyu(ind_needs, ind_access)\n",
    "    acad_delta = (np.mean(acad_needs - acad_access)) / np.mean(acad_access)  # What % higher are reported needs than reported access?\n",
    "    ind_delta = (np.mean(ind_needs - ind_access)) / np.mean(ind_access)  # What % higher are reported needs than reported access?\n",
    "    \n",
    "    # Print the results\n",
    "    print(f\"—————{subfield.upper()}—————\")\n",
    "    print(f\"For academia: p = {round(acad_mwu[1], 4)}; delta = {round(acad_delta * 100, 2)}%\")\n",
    "    print(f\"For industry: p = {round(ind_mwu[1], 4)}; delta = {round(ind_delta * 100, 2)}%\")\n",
    "    \n",
    "    # Create the figure\n",
    "    fig, (ax0, ax1) = plt.subplots(ncols=2, sharey=True, figsize=(16, 6))\n",
    "\n",
    "    # Set the labels for different levels in the responses\n",
    "    labs = ['Much less', 'Somewhat less', 'About the same', 'Somewhat more', 'Much more']\n",
    "\n",
    "    # On the left-hand plot, plot the reported changes in compute NEEDS for academia in red and the reported changes in compute ACCESS in green\n",
    "    ax0.bar(np.arange(len(labs)) - 0.2, [sum(acad_needs == i) / len(acad_needs) for i in range(5)], \n",
    "           width = 0.4, color=colors[1], label='Reported Change in\\nCompute Needs')\n",
    "    ax0.bar(np.arange(len(labs)) + 0.2, [sum(acad_access == i) / len(acad_access) for i in range(5)], \n",
    "           width = 0.4, color=colors[2], label='Reported Change in\\nCompute Access')\n",
    "\n",
    "    # On the right-hand plot, plot the reported changes in compute NEEDS for industry in red and the reported changes in compute ACCESS in green\n",
    "    ax1.bar(np.arange(len(labs)) - 0.2, [sum(ind_needs == i) / len(ind_needs) for i in range(5)], \n",
    "           width = 0.4, color=colors[1], label='Reported Change in\\nCompute Needs')\n",
    "    ax1.bar(np.arange(len(labs)) + 0.2, [sum(ind_access == i) / len(ind_access) for i in range(5)], \n",
    "           width = 0.4, color=colors[2], label='Reported Change in\\nCompute Access')\n",
    "    \n",
    "    # Add significance results if appropriate\n",
    "    for ax, p in zip([ax0, ax1], [acad_mwu[1], ind_mwu[1]]):\n",
    "        if p < 0.05:\n",
    "            s = 'p < 0.05' if p >= 0.01 else 'p < 0.01'\n",
    "            s = s if p >= 0.001 else 'p < 0.001'\n",
    "            ax.annotate(s, xy = (0.1, 0.35), va = 'center', fontsize = 14, fontname = 'DejaVu Sans')\n",
    "\n",
    "    # Stylize the axes \n",
    "    for ax in [ax0, ax1]:\n",
    "        ax.set_xticks(np.arange(len(labs)))\n",
    "        ax.set_xticklabels(labs, rotation=30, ha='right', fontsize=12, fontname='DejaVu Sans')\n",
    "        ax.set_yticks([0.1,0.2,0.3,0.4])\n",
    "        ax.set_yticklabels(['0.1', '0.2', '0.3', '0.4'], fontsize=12, fontname='DejaVu Sans')\n",
    "    ax0.set_ylabel('Proportion of Respondents', fontsize=14, fontname='DejaVu Sans')\n",
    "\n",
    "    # Add titles to each subplot, significance results where appropriate, and a legend to the right of the right-hand plot, then adjust spacing and add a title\n",
    "    ax0.set_title('Academia', fontsize=16, fontname='DejaVu Sans')\n",
    "    ax1.set_title('Industry', fontsize=16, fontname='DejaVu Sans')\n",
    "    ax1.legend(loc='center left', bbox_to_anchor=(1, 0.5), prop=basefont)\n",
    "    fig.subplots_adjust(wspace=0.1)\n",
    "    fig.suptitle(f'Needs vs. Access {subfield.upper()}', fontsize=16, fontname='DejaVu Sans', y=1.05, x=0.55)\n",
    "\n",
    "    plt.savefig(f'../figures/supplementary/Fig8_by_subfield/{subfield}.jpg', dpi=300, bbox_inches='tight')\n",
    "    plt.close()\n"
   ]
  },
  {
   "cell_type": "code",
   "execution_count": 34,
   "id": "0629774b",
   "metadata": {},
   "outputs": [
    {
     "name": "stdout",
     "output_type": "stream",
     "text": [
      "—————CV—————\n",
      "For academia: p = 0.0; delta = 19.38%\n",
      "For industry: p = 0.7295; delta = -3.11%\n",
      "—————ROBOTICS—————\n",
      "For academia: p = 0.1244; delta = 7.64%\n",
      "For industry: p = 0.5574; delta = -4.55%\n",
      "—————NLP—————\n",
      "For academia: p = 0.0; delta = 19.29%\n",
      "For industry: p = 0.4092; delta = 5.65%\n",
      "—————RL—————\n",
      "For academia: p = 0.0189; delta = 10.18%\n",
      "For industry: p = 0.343; delta = -7.02%\n",
      "—————OTHER—————\n",
      "For academia: p = 0.0006; delta = 14.56%\n",
      "For industry: p = 0.4832; delta = -5.48%\n",
      "—————IMAGERECOGNITION—————\n",
      "For academia: p = 0.0001; delta = 21.38%\n",
      "For industry: p = 0.6538; delta = -6.52%\n",
      "—————IMAGESEGMENTATION—————\n",
      "For academia: p = 0.0081; delta = 18.69%\n",
      "For industry: p = 0.6827; delta = 2.7%\n",
      "—————OBJECTTRACKINGANDORREIDENTIFICATION—————\n",
      "For academia: p = 0.0244; delta = 16.67%\n",
      "For industry: p = 0.7572; delta = -3.85%\n",
      "—————INFORMATIONEXTRACTION—————\n",
      "For academia: p = 0.003; delta = 26.67%\n",
      "For industry: p = 0.5109; delta = 6.98%\n",
      "—————LANGUAGEMODELING—————\n",
      "For academia: p = 0.0002; delta = 23.58%\n",
      "For industry: p = 0.0846; delta = 13.64%\n",
      "—————TEXTCLASSIFICATION—————\n",
      "For academia: p = 0.0645; delta = 12.77%\n",
      "For industry: p = 0.7489; delta = 2.35%\n",
      "—————RECOMMENDERSYSTEMS—————\n",
      "For academia: p = 0.4205; delta = 5.33%\n",
      "For industry: p = 0.9698; delta = 0.0%\n",
      "—————TIMESERIESDATA—————\n",
      "For academia: p = 0.0081; delta = 17.6%\n",
      "For industry: p = 0.7297; delta = -5.97%\n",
      "—————ALGORITHMICORARCHITECTUREANALYSIS—————\n",
      "For academia: p = 0.0585; delta = 13.04%\n",
      "For industry: p = 0.316; delta = -11.59%\n"
     ]
    }
   ],
   "source": [
    "# For each subfield, if that subfield has more than 50 respondents, produce a graphic and summary statistics\n",
    "subfields = df.columns[17:72]\n",
    "for subfield in subfields:\n",
    "    if sum(df[subfield]) >= 50:\n",
    "        needs_v_access(subfield)"
   ]
  },
  {
   "cell_type": "code",
   "execution_count": null,
   "id": "0843f7db",
   "metadata": {},
   "outputs": [],
   "source": []
  }
 ],
 "metadata": {
  "kernelspec": {
   "display_name": "Python 3 (ipykernel)",
   "language": "python",
   "name": "python3"
  },
  "language_info": {
   "codemirror_mode": {
    "name": "ipython",
    "version": 3
   },
   "file_extension": ".py",
   "mimetype": "text/x-python",
   "name": "python",
   "nbconvert_exporter": "python",
   "pygments_lexer": "ipython3",
   "version": "3.9.12"
  }
 },
 "nbformat": 4,
 "nbformat_minor": 5
}
